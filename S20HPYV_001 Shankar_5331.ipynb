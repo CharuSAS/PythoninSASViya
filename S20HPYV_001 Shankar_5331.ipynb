{
 "cells": [
  {
   "cell_type": "markdown",
   "metadata": {},
   "source": [
    "# 1. start a CAS session & connect to CAS"
   ]
  },
  {
   "cell_type": "markdown",
   "metadata": {},
   "source": [
    "### 1.1 Import the SWAT package"
   ]
  },
  {
   "cell_type": "markdown",
   "metadata": {},
   "source": [
    "The SAS SWAT package is a Python interface to SAS Cloud Analytic Services (CAS) (the centerpiece of the SAS Viya framework). \n",
    "With the SWAT package, you can load and analyze data sets of any size on your desktop or in the cloud. \n",
    "Since CAS can be used on a local desktop or in a hosted cloud environment, you can analyze extremely large data sets \n",
    "using as much processing power as you need, while still retaining the ease-of-use of Python on the client side.\n",
    "\n",
    "Using SWAT, you can execute workflows of CAS analytic actions, then pull down the summarized data to further \n",
    "process on the client side in Python, or to merge with data from other sources using familiar Pandas data structures. \n",
    "In fact, the SWAT package mimics much of the API of the Pandas package so that using CAS should feel familiar to \n",
    "current Pandas users.\n",
    "\n",
    "With SAS analytics in the cloud and the use of Python and its large collection of open source packages, \n",
    "the SWAT package gives you access to the best of both worlds."
   ]
  },
  {
   "cell_type": "markdown",
   "metadata": {},
   "source": [
    "##### Before you can use the SWAT package, you will need a running CAS server. \n",
    "\n",
    "To connect to a CAS server, you simply import SWAT and use the swat.CAS class to create a connection. \n",
    "The form we will use for this HOW is the most basic form - to pass the hostname, port, userid, and password."
   ]
  },
  {
   "cell_type": "raw",
   "metadata": {},
   "source": [
    "Type the following code into the cell labelled In [ ]: immediately below and then run that cell using the Run menu button.\n",
    "    import swat"
   ]
  },
  {
   "cell_type": "code",
   "execution_count": null,
   "metadata": {},
   "outputs": [],
   "source": []
  },
  {
   "cell_type": "code",
   "execution_count": 626,
   "metadata": {},
   "outputs": [],
   "source": [
    "#import swat"
   ]
  },
  {
   "cell_type": "markdown",
   "metadata": {},
   "source": [
    "### 1.2 create a CAS connection"
   ]
  },
  {
   "cell_type": "markdown",
   "metadata": {},
   "source": [
    "We are already connected to a running CAS server. Describing  installation and startup of CAS is beyond the scope of this HOW.\n",
    "The following pieces of information are required to connect to CAS from SWAT: \n",
    "1) host name, 2) port number, 3) user name, and 4) password. \n",
    "The host name is the name of the server that CAS is running on.The port number is the port that SWAT connects to. \n",
    "Finally, a user name and password are required to authenticate to the server"
   ]
  },
  {
   "cell_type": "raw",
   "metadata": {},
   "source": [
    "Type the following code into the cell labelled In [ ]: immediately below and then run that cell using the Run menu button.\n",
    "    conn=swat.CAS('server.demo.sas.com',8777,username='student',password='Metadata0')"
   ]
  },
  {
   "cell_type": "code",
   "execution_count": null,
   "metadata": {},
   "outputs": [],
   "source": []
  },
  {
   "cell_type": "code",
   "execution_count": 627,
   "metadata": {},
   "outputs": [],
   "source": [
    "#conn=swat.CAS('server.demo.sas.com',8777,username='student',password='Metadata0')"
   ]
  },
  {
   "cell_type": "markdown",
   "metadata": {},
   "source": [
    "### 1.3 Run CAS Actions"
   ]
  },
  {
   "cell_type": "markdown",
   "metadata": {},
   "source": [
    "CAS actions perform a single task. CAS actions are aggregated with other actions in an action set and \n",
    "sually contain actions that are based on common functionality.\n",
    "Use the help action to ask CAS directly what actions are available"
   ]
  },
  {
   "cell_type": "raw",
   "metadata": {},
   "source": [
    "Type the following code into the cell labelled In [ ]: immediately below and then run that cell using the Run menu button.\n",
    "    conn.help()"
   ]
  },
  {
   "cell_type": "code",
   "execution_count": null,
   "metadata": {},
   "outputs": [],
   "source": []
  },
  {
   "cell_type": "code",
   "execution_count": 618,
   "metadata": {},
   "outputs": [],
   "source": [
    "#conn.help()"
   ]
  },
  {
   "cell_type": "markdown",
   "metadata": {},
   "source": [
    "Run a simple action like serverstatus to verify that the connection is working."
   ]
  },
  {
   "cell_type": "raw",
   "metadata": {},
   "source": [
    "Type the following code into the cell labelled In [ ]: immediately below and then run that cell using the Run menu button.\n",
    "    conn.serverstatus()"
   ]
  },
  {
   "cell_type": "code",
   "execution_count": null,
   "metadata": {},
   "outputs": [],
   "source": []
  },
  {
   "cell_type": "code",
   "execution_count": 611,
   "metadata": {},
   "outputs": [],
   "source": [
    "#conn.serverstatus()"
   ]
  },
  {
   "cell_type": "markdown",
   "metadata": {},
   "source": [
    "There is one caslib that is considered to be active at any time. An active caslib means that any table references \n",
    "not accompanied by a caslib name are assumed to be the active caslib. \n",
    "Use the caslibinfo action to see which caslib is active. Notice, that he Casuser caslib is marked as the active caslib."
   ]
  },
  {
   "cell_type": "raw",
   "metadata": {},
   "source": [
    "Type the following code into the cell labelled In [ ]: immediately below and then run that cell using the Run menu button.\n",
    "    conn.caslibinfo()"
   ]
  },
  {
   "cell_type": "code",
   "execution_count": null,
   "metadata": {},
   "outputs": [],
   "source": []
  },
  {
   "cell_type": "code",
   "execution_count": 612,
   "metadata": {
    "scrolled": true
   },
   "outputs": [],
   "source": [
    "#conn.caslibinfo()"
   ]
  },
  {
   "cell_type": "markdown",
   "metadata": {},
   "source": [
    "### 1.4\tLoad dataset from the client side"
   ]
  },
  {
   "cell_type": "markdown",
   "metadata": {},
   "source": [
    "The simplest way to load data is to do it from the client side by using data loading methods on the cas object that \n",
    "parallel data reading operations in the pandas module. \n",
    "Note: Loading data from the client-side will be slower than loading data files from the server. \n",
    "      Client-side data loading is intended for smaller data sets."
   ]
  },
  {
   "cell_type": "markdown",
   "metadata": {},
   "source": [
    "The CAS.read_csv() method works just like the pandas.read_csv() function. In fact, CAS.read_csv() uses \n",
    "pandas.read_csv() in the background. When pandas.read_csv() finishes parsing the CSV file into a pandas.DataFrame, \n",
    "it gets uploaded to a CAS table by CAS.read_csv(). The returned object is a CASTable object.\n",
    "The only difference is that the result of the method is a CASTable object rather than a pandas DataFrame"
   ]
  },
  {
   "cell_type": "markdown",
   "metadata": {},
   "source": [
    "In the following scenario, we are pointing to a URL that references CSV data. We could just as easily point to a local file. \n",
    "Bear in mind that when using a URL, the data is downloaded from wherever it is to the client machine for parsing \n",
    "before it is uploaded to CAS."
   ]
  },
  {
   "cell_type": "code",
   "execution_count": null,
   "metadata": {},
   "outputs": [],
   "source": []
  },
  {
   "cell_type": "raw",
   "metadata": {},
   "source": [
    "Type the following code into the cell labelled In [ ]: immediately below and then run that cell using the Run menu button\n",
    "    cars = conn.read_csv('https://raw.githubusercontent.com/CharuSAS/pythondata/master/cars.csv')"
   ]
  },
  {
   "cell_type": "code",
   "execution_count": null,
   "metadata": {},
   "outputs": [],
   "source": []
  },
  {
   "cell_type": "code",
   "execution_count": 632,
   "metadata": {},
   "outputs": [
    {
     "name": "stdout",
     "output_type": "stream",
     "text": [
      "NOTE: Cloud Analytic Services made the uploaded file available as table TMPWL1KTNKT in caslib CASUSER(student).\n",
      "NOTE: The table TMPWL1KTNKT has been created in caslib CASUSER(student) from binary data uploaded to Cloud Analytic Services.\n"
     ]
    }
   ],
   "source": [
    "#cars = conn.read_csv('https://raw.githubusercontent.com/CharuSAS/pythondata/master/cars.csv')"
   ]
  },
  {
   "cell_type": "markdown",
   "metadata": {},
   "source": [
    "We should now have the cars table in our CAS session"
   ]
  },
  {
   "cell_type": "markdown",
   "metadata": {},
   "source": [
    "If you don’t want the difficult-to-read generated name for a table, you can specify one using the casout= parameter."
   ]
  },
  {
   "cell_type": "raw",
   "metadata": {},
   "source": [
    "Type the following code into the cell labelled In [ ]: immediately below and then run that cell using the Run menu button\n",
    "    cars = conn.read_csv('https://raw.githubusercontent.com/CharuSAS/pythondata/master/cars.csv',\n",
    "                    casout='cars')"
   ]
  },
  {
   "cell_type": "code",
   "execution_count": null,
   "metadata": {},
   "outputs": [],
   "source": []
  },
  {
   "cell_type": "code",
   "execution_count": 543,
   "metadata": {},
   "outputs": [],
   "source": [
    "#cars = conn.read_csv('https://raw.githubusercontent.com/CharuSAS/pythondata/master/cars.csv',casout='cars')"
   ]
  },
  {
   "cell_type": "raw",
   "metadata": {},
   "source": []
  },
  {
   "cell_type": "markdown",
   "metadata": {},
   "source": [
    "We can get a fair bit of information about our data using CAS actions for simple statistics. \n",
    "These actions are in an action set called simple. The simple action set should already be loaded. \n",
    "Verify this by running the actionsetinfo action (in addition to running\n",
    "the action, we are also accessing the ‘actionset’ column of the DataFrame in the ‘setinfo’ key of the result\n",
    "in the code below)."
   ]
  },
  {
   "cell_type": "raw",
   "metadata": {},
   "source": [
    "Type the following code into the cell labelled In [ ]: immediately below and then run that cell using the Run menu button\n",
    "    conn.actionsetinfo().setinfo.actionset"
   ]
  },
  {
   "cell_type": "code",
   "execution_count": null,
   "metadata": {},
   "outputs": [],
   "source": []
  },
  {
   "cell_type": "code",
   "execution_count": 631,
   "metadata": {},
   "outputs": [],
   "source": [
    "#conn.actionsetinfo().setinfo.actionset"
   ]
  },
  {
   "cell_type": "markdown",
   "metadata": {},
   "source": [
    "The IPython environment has a way of invoking help as well. It is more useful in the notebook environment where the help \n",
    "content will pop up in a separate pane of the browser. To bring up help for an action set, you simply add a ? after the action \n",
    "set attribute name.\n",
    "Using IPython’s ? operator for displaying help, display the following on the simple attribute of the connection object."
   ]
  },
  {
   "cell_type": "raw",
   "metadata": {},
   "source": [
    "Type the following code into the cell labelled In [ ]: immediately below and then run that cell using the Run menu button\n",
    "    conn.simple?"
   ]
  },
  {
   "cell_type": "code",
   "execution_count": null,
   "metadata": {},
   "outputs": [],
   "source": []
  },
  {
   "cell_type": "code",
   "execution_count": 622,
   "metadata": {},
   "outputs": [],
   "source": [
    "#conn.simple?"
   ]
  },
  {
   "cell_type": "markdown",
   "metadata": {},
   "source": [
    "The CAS server has a builtin help system that will tell you about action sets and actions. \n",
    "Specify the action set name as a parameter if you only want to see the help for a single action set."
   ]
  },
  {
   "cell_type": "raw",
   "metadata": {},
   "source": [
    "Type the following code into the cell labelled In [ ]: immediately below and then run that cell using the Run menu button\n",
    "    conn.help(actionset='simple')"
   ]
  },
  {
   "cell_type": "code",
   "execution_count": null,
   "metadata": {},
   "outputs": [],
   "source": []
  },
  {
   "cell_type": "code",
   "execution_count": 625,
   "metadata": {},
   "outputs": [],
   "source": [
    "#conn.help(actionset='simple')"
   ]
  },
  {
   "cell_type": "markdown",
   "metadata": {},
   "source": [
    "As mentioned earlier, these methods on the CAS object use the Pandas functions under-the-covers to do the parsing. This means that you can also use all of the Pandas parsing options.\n",
    "Once verified that this action set loaded, use the summary action on our previously loaded CARS table."
   ]
  },
  {
   "cell_type": "raw",
   "metadata": {},
   "source": [
    "Type the following code into the cell labelled In [ ]: immediately below and then run that cell using the Run menu button\n",
    "    cars.summary()"
   ]
  },
  {
   "cell_type": "code",
   "execution_count": null,
   "metadata": {},
   "outputs": [],
   "source": []
  },
  {
   "cell_type": "code",
   "execution_count": 540,
   "metadata": {},
   "outputs": [],
   "source": [
    "#cars.summary()"
   ]
  },
  {
   "cell_type": "markdown",
   "metadata": {},
   "source": [
    "### 1.5 Load CAS Action Sets"
   ]
  },
  {
   "cell_type": "markdown",
   "metadata": {},
   "source": [
    "While CAS comes with a few pre-loaded action sets, you will likely want to load action sets with other capabilities \n",
    "such as percentiles, Data step, SQL, or even machine learning. The action used to load action sets is called loadactionset."
   ]
  },
  {
   "cell_type": "raw",
   "metadata": {},
   "source": [
    "Type the following code into the cell labelled In [ ]: immediately below and then run that cell using the Run menu button\n",
    "    conn.loadactionset('percentile')"
   ]
  },
  {
   "cell_type": "code",
   "execution_count": null,
   "metadata": {},
   "outputs": [],
   "source": []
  },
  {
   "cell_type": "code",
   "execution_count": 536,
   "metadata": {},
   "outputs": [],
   "source": [
    "#conn.loadactionset('percentile')"
   ]
  },
  {
   "cell_type": "markdown",
   "metadata": {},
   "source": [
    "Now use the percentile action set on cars data"
   ]
  },
  {
   "cell_type": "raw",
   "metadata": {},
   "source": [
    "Type the following code into the cell labelled In [ ]: immediately below and then run that cell using the Run menu button\n",
    "    cars.percentile()"
   ]
  },
  {
   "cell_type": "code",
   "execution_count": null,
   "metadata": {},
   "outputs": [],
   "source": []
  },
  {
   "cell_type": "code",
   "execution_count": 535,
   "metadata": {},
   "outputs": [],
   "source": [
    "#cars.percentile()"
   ]
  },
  {
   "cell_type": "markdown",
   "metadata": {},
   "source": [
    "## 2. Use CASTable objects like a DataFrame"
   ]
  },
  {
   "cell_type": "markdown",
   "metadata": {},
   "source": [
    "The CASTable object is the most important object in the SWAT package besides the CAS connection object.\n",
    "It keeps your CAS table settings in one object. Also it enables you to directly call CAS actions on the table object\n",
    "rather than always having to supply them as a parameter to the action.\n",
    "CASTable objects do not contain actual data. They are simply a client-side view of the data in a CAS table on a CAS server."
   ]
  },
  {
   "cell_type": "markdown",
   "metadata": {},
   "source": [
    "CASTable objects can be used in multiple ways. They can be used as simply a container of table parameters \n",
    "and used as CAS action parameter values. If a connection is associated with it (either by instantiating it from CAS.CASTable() \n",
    "or using set_connection()), it can be used to call CAS actions on the table. \n",
    "Finally, it supports much of the pandas.DataFrame API, so it can interact with CAS tables in much the same way you \n",
    "interact with local data."
   ]
  },
  {
   "cell_type": "markdown",
   "metadata": {},
   "source": [
    "As mentioned earlier, CASTable objects implement many of the pandas.DataFrame methods and properties. \n",
    "this means that you can use the familiar Pandas.DataFrame API, but use it on data that is far too large for \n",
    "pandas to handle. a few examples"
   ]
  },
  {
   "cell_type": "markdown",
   "metadata": {},
   "source": [
    "The first step to take before working with CASTable objects is to create a data table in CAS. "
   ]
  },
  {
   "cell_type": "markdown",
   "metadata": {},
   "source": [
    "### 2.1 Load the Iris data into a DataFrame"
   ]
  },
  {
   "cell_type": "markdown",
   "metadata": {},
   "source": [
    "Since Dataframes are not built into Python, we must first import their definition from the Pandas module"
   ]
  },
  {
   "cell_type": "raw",
   "metadata": {},
   "source": [
    "Type the following code into the cell labelled In [ ]: immediately below and then run that cell using the Run menu button\n",
    "    import pandas as pd"
   ]
  },
  {
   "cell_type": "code",
   "execution_count": null,
   "metadata": {},
   "outputs": [],
   "source": []
  },
  {
   "cell_type": "code",
   "execution_count": 636,
   "metadata": {},
   "outputs": [],
   "source": [
    "#import pandas as pd"
   ]
  },
  {
   "cell_type": "markdown",
   "metadata": {},
   "source": [
    "Load data from iris.csv into a pandas dataframe using the read_csv method in pandas"
   ]
  },
  {
   "cell_type": "raw",
   "metadata": {},
   "source": [
    "Type the following code into the cell labelled In [ ]: immediately below and then run that cell using the Run menu button\n",
    "    df = pd.read_csv('/workshop/HOW/Shankar_5331/data/iris.csv')"
   ]
  },
  {
   "cell_type": "code",
   "execution_count": null,
   "metadata": {},
   "outputs": [],
   "source": []
  },
  {
   "cell_type": "code",
   "execution_count": 634,
   "metadata": {},
   "outputs": [],
   "source": [
    "#df = pd.read_csv('/workshop/HOW/Shankar_5331/data/iris.csv')"
   ]
  },
  {
   "cell_type": "markdown",
   "metadata": {},
   "source": [
    "Use the columns method for listing names of all of the columns used"
   ]
  },
  {
   "cell_type": "raw",
   "metadata": {},
   "source": [
    "Type the following code into the cell labelled In [ ]: immediately below and then run that cell using the Run menu button\n",
    "    df.columns"
   ]
  },
  {
   "cell_type": "code",
   "execution_count": null,
   "metadata": {},
   "outputs": [],
   "source": []
  },
  {
   "cell_type": "code",
   "execution_count": 635,
   "metadata": {},
   "outputs": [
    {
     "data": {
      "text/plain": [
       "Index(['SepalLength', 'SepalWidth', 'PetalLength', 'PetalWidth', 'Name'], dtype='object')"
      ]
     },
     "execution_count": 635,
     "metadata": {},
     "output_type": "execute_result"
    }
   ],
   "source": [
    "#df.columns"
   ]
  },
  {
   "cell_type": "markdown",
   "metadata": {},
   "source": [
    "### 2.2 Load iris.csv into a CAS table"
   ]
  },
  {
   "cell_type": "code",
   "execution_count": 544,
   "metadata": {},
   "outputs": [],
   "source": [
    "#conn.droptable('iris', caslib='casuser')"
   ]
  },
  {
   "cell_type": "markdown",
   "metadata": {},
   "source": [
    "Load the CASTable IRIS in this ession and create a CASTable object that points to it.\n",
    "Use the CASTable method of the CAS connection object and pass the name of the table. \n",
    "You will now have a CASTable object to interact with"
   ]
  },
  {
   "cell_type": "raw",
   "metadata": {},
   "source": [
    "Type the following code into the cell labelled In [ ]: immediately below and then run that cell using the Run menu button\n",
    "    tbl=conn.loadtable('iris.csv', caslib='casuser').casTable"
   ]
  },
  {
   "cell_type": "code",
   "execution_count": null,
   "metadata": {},
   "outputs": [],
   "source": []
  },
  {
   "cell_type": "code",
   "execution_count": 637,
   "metadata": {},
   "outputs": [
    {
     "name": "stdout",
     "output_type": "stream",
     "text": [
      "NOTE: Cloud Analytic Services made the file iris.csv available as table IRIS in caslib CASUSER(student).\n"
     ]
    }
   ],
   "source": [
    "#tbl=conn.loadtable('iris.csv', caslib='casuser').casTable"
   ]
  },
  {
   "cell_type": "markdown",
   "metadata": {},
   "source": [
    "Use the tableinfo action to confirm that the table exists IRIS exists"
   ]
  },
  {
   "cell_type": "raw",
   "metadata": {},
   "source": [
    "Type the following code into the cell labelled In [ ]: immediately below and then run that cell using the Run menu button\n",
    "    conn.table.tableInfo()"
   ]
  },
  {
   "cell_type": "code",
   "execution_count": 638,
   "metadata": {},
   "outputs": [
    {
     "data": {
      "text/html": [
       "<div class=\"cas-results-key\"><b>&#167; TableInfo</b></div>\n",
       "<div class=\"cas-results-body\">\n",
       "<div>\n",
       "<style scoped>\n",
       "    .dataframe tbody tr th:only-of-type {\n",
       "        vertical-align: middle;\n",
       "    }\n",
       "\n",
       "    .dataframe tbody tr th {\n",
       "        vertical-align: top;\n",
       "    }\n",
       "\n",
       "    .dataframe thead th {\n",
       "        text-align: right;\n",
       "    }\n",
       "</style>\n",
       "<table border=\"1\" class=\"dataframe\">\n",
       "  <thead>\n",
       "    <tr style=\"text-align: right;\">\n",
       "      <th title=\"\"></th>\n",
       "      <th title=\"Name\">Name</th>\n",
       "      <th title=\"Rows\">Rows</th>\n",
       "      <th title=\"Columns\">Columns</th>\n",
       "      <th title=\"Indexed Columns\">IndexedColumns</th>\n",
       "      <th title=\"Encoding\">Encoding</th>\n",
       "      <th title=\"Created\">CreateTimeFormatted</th>\n",
       "      <th title=\"Last Modified\">ModTimeFormatted</th>\n",
       "      <th title=\"Last Accessed\">AccessTimeFormatted</th>\n",
       "      <th title=\"Character Set\">JavaCharSet</th>\n",
       "      <th title=\"CreateTime\">CreateTime</th>\n",
       "      <th title=\"...\">...</th>\n",
       "      <th title=\"Repeated\">Repeated</th>\n",
       "      <th title=\"View\">View</th>\n",
       "      <th title=\"MultiPart\">MultiPart</th>\n",
       "      <th title=\"Loaded Source\">SourceName</th>\n",
       "      <th title=\"Source Caslib\">SourceCaslib</th>\n",
       "      <th title=\"Compressed\">Compressed</th>\n",
       "      <th title=\"Table Creator\">Creator</th>\n",
       "      <th title=\"Last Table Modifier\">Modifier</th>\n",
       "      <th title=\"Source Modified\">SourceModTimeFormatted</th>\n",
       "      <th title=\"SourceModTime\">SourceModTime</th>\n",
       "    </tr>\n",
       "  </thead>\n",
       "  <tbody>\n",
       "    <tr>\n",
       "      <td>0</td>\n",
       "      <td>TMP29NQPHN5</td>\n",
       "      <td>428</td>\n",
       "      <td>15</td>\n",
       "      <td>0</td>\n",
       "      <td>utf-8</td>\n",
       "      <td>2020-02-08T22:25:34-05:00</td>\n",
       "      <td>2020-02-08T22:25:34-05:00</td>\n",
       "      <td>2020-02-08T22:25:34-05:00</td>\n",
       "      <td>UTF8</td>\n",
       "      <td>1.896838e+09</td>\n",
       "      <td>...</td>\n",
       "      <td>0</td>\n",
       "      <td>0</td>\n",
       "      <td>0</td>\n",
       "      <td></td>\n",
       "      <td></td>\n",
       "      <td>0</td>\n",
       "      <td>student</td>\n",
       "      <td></td>\n",
       "      <td>2020-02-08T22:25:34-05:00</td>\n",
       "      <td>1.896838e+09</td>\n",
       "    </tr>\n",
       "    <tr>\n",
       "      <td>1</td>\n",
       "      <td>CARS</td>\n",
       "      <td>428</td>\n",
       "      <td>15</td>\n",
       "      <td>0</td>\n",
       "      <td>utf-8</td>\n",
       "      <td>2020-02-08T22:25:50-05:00</td>\n",
       "      <td>2020-02-08T22:25:50-05:00</td>\n",
       "      <td>2020-02-08T22:25:50-05:00</td>\n",
       "      <td>UTF8</td>\n",
       "      <td>1.896838e+09</td>\n",
       "      <td>...</td>\n",
       "      <td>0</td>\n",
       "      <td>0</td>\n",
       "      <td>0</td>\n",
       "      <td></td>\n",
       "      <td></td>\n",
       "      <td>0</td>\n",
       "      <td>student</td>\n",
       "      <td></td>\n",
       "      <td>2020-02-08T22:25:50-05:00</td>\n",
       "      <td>1.896838e+09</td>\n",
       "    </tr>\n",
       "    <tr>\n",
       "      <td>2</td>\n",
       "      <td>TMPWL1KTNKT</td>\n",
       "      <td>428</td>\n",
       "      <td>15</td>\n",
       "      <td>0</td>\n",
       "      <td>utf-8</td>\n",
       "      <td>2020-02-08T22:29:21-05:00</td>\n",
       "      <td>2020-02-08T22:29:21-05:00</td>\n",
       "      <td>2020-02-08T22:29:21-05:00</td>\n",
       "      <td>UTF8</td>\n",
       "      <td>1.896838e+09</td>\n",
       "      <td>...</td>\n",
       "      <td>0</td>\n",
       "      <td>0</td>\n",
       "      <td>0</td>\n",
       "      <td></td>\n",
       "      <td></td>\n",
       "      <td>0</td>\n",
       "      <td>student</td>\n",
       "      <td></td>\n",
       "      <td>2020-02-08T22:29:21-05:00</td>\n",
       "      <td>1.896838e+09</td>\n",
       "    </tr>\n",
       "    <tr>\n",
       "      <td>3</td>\n",
       "      <td>IRIS</td>\n",
       "      <td>150</td>\n",
       "      <td>5</td>\n",
       "      <td>0</td>\n",
       "      <td>utf-8</td>\n",
       "      <td>2020-02-08T22:34:59-05:00</td>\n",
       "      <td>2020-02-08T22:34:59-05:00</td>\n",
       "      <td>2020-02-08T22:34:59-05:00</td>\n",
       "      <td>UTF8</td>\n",
       "      <td>1.896838e+09</td>\n",
       "      <td>...</td>\n",
       "      <td>0</td>\n",
       "      <td>0</td>\n",
       "      <td>0</td>\n",
       "      <td>iris.csv</td>\n",
       "      <td>CASUSER(student)</td>\n",
       "      <td>0</td>\n",
       "      <td>student</td>\n",
       "      <td></td>\n",
       "      <td>2020-02-07T11:08:36-05:00</td>\n",
       "      <td>1.896711e+09</td>\n",
       "    </tr>\n",
       "    <tr>\n",
       "      <td>4</td>\n",
       "      <td>MYCUSTOMERS</td>\n",
       "      <td>951669</td>\n",
       "      <td>24</td>\n",
       "      <td>0</td>\n",
       "      <td>utf-8</td>\n",
       "      <td>2020-01-31T16:54:19-05:00</td>\n",
       "      <td>2020-01-31T16:54:24-05:00</td>\n",
       "      <td>2020-01-31T17:00:46-05:00</td>\n",
       "      <td>UTF8</td>\n",
       "      <td>1.896127e+09</td>\n",
       "      <td>...</td>\n",
       "      <td>0</td>\n",
       "      <td>0</td>\n",
       "      <td>0</td>\n",
       "      <td></td>\n",
       "      <td></td>\n",
       "      <td>0</td>\n",
       "      <td>student</td>\n",
       "      <td></td>\n",
       "      <td></td>\n",
       "      <td>NaN</td>\n",
       "    </tr>\n",
       "  </tbody>\n",
       "</table>\n",
       "<p>5 rows × 23 columns</p>\n",
       "</div>\n",
       "</div>\n",
       "<div class=\"cas-output-area\"></div>\n",
       "<p class=\"cas-results-performance\"><small><span class=\"cas-elapsed\">elapsed 0.00138s</span> &#183; <span class=\"cas-sys\">sys 0.00124s</span> &#183; <span class=\"cas-memory\">mem 0.755MB</span></small></p>"
      ],
      "text/plain": [
       "[TableInfo]\n",
       "\n",
       "           Name    Rows  Columns  IndexedColumns Encoding  \\\n",
       " 0  TMP29NQPHN5     428       15               0    utf-8   \n",
       " 1         CARS     428       15               0    utf-8   \n",
       " 2  TMPWL1KTNKT     428       15               0    utf-8   \n",
       " 3         IRIS     150        5               0    utf-8   \n",
       " 4  MYCUSTOMERS  951669       24               0    utf-8   \n",
       " \n",
       "          CreateTimeFormatted           ModTimeFormatted  \\\n",
       " 0  2020-02-08T22:25:34-05:00  2020-02-08T22:25:34-05:00   \n",
       " 1  2020-02-08T22:25:50-05:00  2020-02-08T22:25:50-05:00   \n",
       " 2  2020-02-08T22:29:21-05:00  2020-02-08T22:29:21-05:00   \n",
       " 3  2020-02-08T22:34:59-05:00  2020-02-08T22:34:59-05:00   \n",
       " 4  2020-01-31T16:54:19-05:00  2020-01-31T16:54:24-05:00   \n",
       " \n",
       "          AccessTimeFormatted JavaCharSet    CreateTime  ...  Repeated  View  \\\n",
       " 0  2020-02-08T22:25:34-05:00        UTF8  1.896838e+09  ...         0     0   \n",
       " 1  2020-02-08T22:25:50-05:00        UTF8  1.896838e+09  ...         0     0   \n",
       " 2  2020-02-08T22:29:21-05:00        UTF8  1.896838e+09  ...         0     0   \n",
       " 3  2020-02-08T22:34:59-05:00        UTF8  1.896838e+09  ...         0     0   \n",
       " 4  2020-01-31T17:00:46-05:00        UTF8  1.896127e+09  ...         0     0   \n",
       " \n",
       "    MultiPart  SourceName      SourceCaslib  Compressed  Creator Modifier  \\\n",
       " 0          0                                         0  student            \n",
       " 1          0                                         0  student            \n",
       " 2          0                                         0  student            \n",
       " 3          0    iris.csv  CASUSER(student)           0  student            \n",
       " 4          0                                         0  student            \n",
       " \n",
       "       SourceModTimeFormatted SourceModTime  \n",
       " 0  2020-02-08T22:25:34-05:00  1.896838e+09  \n",
       " 1  2020-02-08T22:25:50-05:00  1.896838e+09  \n",
       " 2  2020-02-08T22:29:21-05:00  1.896838e+09  \n",
       " 3  2020-02-07T11:08:36-05:00  1.896711e+09  \n",
       " 4                                      NaN  \n",
       " \n",
       " [5 rows x 23 columns]\n",
       "\n",
       "+ Elapsed: 0.00138s, sys: 0.00124s, mem: 0.755mb"
      ]
     },
     "execution_count": 638,
     "metadata": {},
     "output_type": "execute_result"
    }
   ],
   "source": []
  },
  {
   "cell_type": "code",
   "execution_count": 549,
   "metadata": {},
   "outputs": [],
   "source": [
    "#conn.table.tableInfo()"
   ]
  },
  {
   "cell_type": "markdown",
   "metadata": {},
   "source": [
    "The head() method picks up the first 5 records by default. The head and tail methods accept the n parameter indicating number of records to retrieve(default is 5). Modify the value of n to return 4 records."
   ]
  },
  {
   "cell_type": "raw",
   "metadata": {},
   "source": [
    "Type the following code into the cell labelled In [ ]: immediately below and then run that cell using the Run menu button\n",
    "    tbl.head(n=4)"
   ]
  },
  {
   "cell_type": "code",
   "execution_count": null,
   "metadata": {},
   "outputs": [],
   "source": []
  },
  {
   "cell_type": "code",
   "execution_count": null,
   "metadata": {},
   "outputs": [],
   "source": [
    "#tbl.head(n=4)"
   ]
  },
  {
   "cell_type": "markdown",
   "metadata": {},
   "source": [
    "CAS commmonly deals with large datasets and you might not want to bring all of the variables back. \n",
    "Using the columns parameter, subset the columns that are retrieved"
   ]
  },
  {
   "cell_type": "raw",
   "metadata": {},
   "source": [
    "Type the following code into the cell labelled In [ ]: immediately below and then run that cell using the Run menu button\n",
    "    tbl.tail(columns=['sepallength', 'petallength'])"
   ]
  },
  {
   "cell_type": "code",
   "execution_count": null,
   "metadata": {},
   "outputs": [],
   "source": []
  },
  {
   "cell_type": "code",
   "execution_count": null,
   "metadata": {},
   "outputs": [],
   "source": [
    "#tbl.tail(columns=['sepallength', 'petallength'])"
   ]
  },
  {
   "cell_type": "markdown",
   "metadata": {},
   "source": [
    "### 2.3 Compare dataframe with CASTable"
   ]
  },
  {
   "cell_type": "markdown",
   "metadata": {},
   "source": [
    "#### Find data types using dtypes"
   ]
  },
  {
   "cell_type": "raw",
   "metadata": {},
   "source": [
    "Type the following code into the cell labelled In [ ]: immediately below and then run that cell using the Run menu button\n",
    "    df.dtypes"
   ]
  },
  {
   "cell_type": "code",
   "execution_count": null,
   "metadata": {},
   "outputs": [],
   "source": []
  },
  {
   "cell_type": "code",
   "execution_count": 639,
   "metadata": {},
   "outputs": [
    {
     "data": {
      "text/plain": [
       "SepalLength    float64\n",
       "SepalWidth     float64\n",
       "PetalLength    float64\n",
       "PetalWidth     float64\n",
       "Name            object\n",
       "dtype: object"
      ]
     },
     "execution_count": 639,
     "metadata": {},
     "output_type": "execute_result"
    }
   ],
   "source": [
    "#df.dtypes"
   ]
  },
  {
   "cell_type": "raw",
   "metadata": {},
   "source": [
    "Type the following code into the cell labelled In [ ]: immediately below and then run that cell using the Run menu button\n",
    "    tbl.dtypes"
   ]
  },
  {
   "cell_type": "code",
   "execution_count": null,
   "metadata": {},
   "outputs": [],
   "source": []
  },
  {
   "cell_type": "code",
   "execution_count": 640,
   "metadata": {},
   "outputs": [
    {
     "data": {
      "text/plain": [
       "SepalLength     double\n",
       "SepalWidth      double\n",
       "PetalLength     double\n",
       "PetalWidth      double\n",
       "Name           varchar\n",
       "dtype: object"
      ]
     },
     "execution_count": 640,
     "metadata": {},
     "output_type": "execute_result"
    }
   ],
   "source": [
    "#tbl.dtypes"
   ]
  },
  {
   "cell_type": "markdown",
   "metadata": {},
   "source": [
    "Notice a small difference. The data types supported by DataFrames and those supported by CAS tables have different names. \n",
    "The different names don't matter since the Python float64 types is equivalent to the CAS double type. "
   ]
  },
  {
   "cell_type": "markdown",
   "metadata": {},
   "source": [
    "# 3. Explore data and gather summary statistics"
   ]
  },
  {
   "cell_type": "markdown",
   "metadata": {},
   "source": [
    "### 3.1 Data exploration"
   ]
  },
  {
   "cell_type": "markdown",
   "metadata": {},
   "source": [
    "Histograms help to view the distribution of numeric variables within a dataset. They can be used to identify any issues or outliers in the data. To create a histogram of all numeric variables within the CAS table, ues the Python hist method. \n",
    "\n",
    "This hist method produces one histogram for each numeric variable within the data set. The figsize option included within the code specifies the size of the plot which you would like to be created. For the iris table, one histogram is created for the distribution of PetalLength, PetalWidth, SepalLength, SepalWidth. Output displays 4 plots  generated for the IRIS CASTable:"
   ]
  },
  {
   "cell_type": "raw",
   "metadata": {},
   "source": [
    "Type the following code into the cell labelled In [ ]: immediately below and then run that cell using the Run menu button\n",
    "    ptbl.hist(figsize=(20,20))\n",
    "    print(p)"
   ]
  },
  {
   "cell_type": "code",
   "execution_count": 597,
   "metadata": {
    "scrolled": true
   },
   "outputs": [
    {
     "name": "stdout",
     "output_type": "stream",
     "text": [
      "[[<matplotlib.axes._subplots.AxesSubplot object at 0x7f5cd0877090>\n",
      "  <matplotlib.axes._subplots.AxesSubplot object at 0x7f5cd0db4150>]\n",
      " [<matplotlib.axes._subplots.AxesSubplot object at 0x7f5ccb46ce90>\n",
      "  <matplotlib.axes._subplots.AxesSubplot object at 0x7f5ccb42e6d0>]]\n"
     ]
    },
    {
     "data": {
      "image/png": "[encoded data removed]",
      "text/plain": [
       "<Figure size 1440x1440 with 4 Axes>"
      ]
     },
     "metadata": {
      "needs_background": "light"
     },
     "output_type": "display_data"
    }
   ],
   "source": [
    "tbl.hist(figsize=(20,20))\n",
    "print(p)"
   ]
  },
  {
   "cell_type": "markdown",
   "metadata": {},
   "source": [
    "### 3.2 Computing Simple Statistics"
   ]
  },
  {
   "cell_type": "markdown",
   "metadata": {},
   "source": [
    "A common DataFrame method is the Describe method use to provide characteristics of the data. \n",
    "Use the Describe method to get basic summary statistics like mean, minimum, quartiles etc. for numeric variables on a dataframe and a CASTable."
   ]
  },
  {
   "cell_type": "markdown",
   "metadata": {},
   "source": [
    "Run the describe method on a CASTable"
   ]
  },
  {
   "cell_type": "raw",
   "metadata": {},
   "source": [
    "Type the following code into the cell labelled In [ ]: immediately below and then run that cell using the Run menu button\n",
    "    desc = df.describe()"
   ]
  },
  {
   "cell_type": "code",
   "execution_count": null,
   "metadata": {},
   "outputs": [],
   "source": []
  },
  {
   "cell_type": "code",
   "execution_count": 555,
   "metadata": {},
   "outputs": [],
   "source": [
    "#desc = df.describe()"
   ]
  },
  {
   "cell_type": "raw",
   "metadata": {},
   "source": [
    "Type the following code into the cell labelled In [ ]: immediately below and then run that cell using the Run menu button\n",
    "    desc"
   ]
  },
  {
   "cell_type": "code",
   "execution_count": null,
   "metadata": {},
   "outputs": [],
   "source": []
  },
  {
   "cell_type": "code",
   "execution_count": 556,
   "metadata": {},
   "outputs": [],
   "source": [
    "#desc"
   ]
  },
  {
   "cell_type": "raw",
   "metadata": {},
   "source": [
    "Type the following code into the cell labelled In [ ]: immediately below and then run that cell using the Run menu button\n",
    "    type(desc)"
   ]
  },
  {
   "cell_type": "code",
   "execution_count": null,
   "metadata": {},
   "outputs": [],
   "source": []
  },
  {
   "cell_type": "code",
   "execution_count": 557,
   "metadata": {},
   "outputs": [],
   "source": [
    "#type(desc)"
   ]
  },
  {
   "cell_type": "markdown",
   "metadata": {},
   "source": [
    "Run the describe method on a CASTable"
   ]
  },
  {
   "cell_type": "raw",
   "metadata": {},
   "source": [
    "Type the following code into the cell labelled In [ ]: immediately below and then run that cell using the Run menu button\n",
    "    casdesc = tbl.describe()"
   ]
  },
  {
   "cell_type": "code",
   "execution_count": null,
   "metadata": {},
   "outputs": [],
   "source": []
  },
  {
   "cell_type": "code",
   "execution_count": 558,
   "metadata": {},
   "outputs": [],
   "source": [
    "#casdesc = tbl.describe()"
   ]
  },
  {
   "cell_type": "raw",
   "metadata": {},
   "source": [
    "Type the following code into the cell labelled In [ ]: immediately below and then run that cell using the Run menu button\n",
    "    casdesc"
   ]
  },
  {
   "cell_type": "code",
   "execution_count": null,
   "metadata": {},
   "outputs": [],
   "source": []
  },
  {
   "cell_type": "code",
   "execution_count": 559,
   "metadata": {},
   "outputs": [],
   "source": [
    "#casdesc"
   ]
  },
  {
   "cell_type": "raw",
   "metadata": {},
   "source": [
    "Type the following code into the cell labelled In [ ]: immediately below and then run that cell using the Run menu button\n",
    "    type(casdesc)"
   ]
  },
  {
   "cell_type": "code",
   "execution_count": null,
   "metadata": {},
   "outputs": [],
   "source": []
  },
  {
   "cell_type": "code",
   "execution_count": 562,
   "metadata": {},
   "outputs": [
    {
     "data": {
      "text/plain": [
       "swat.dataframe.SASDataFrame"
      ]
     },
     "execution_count": 562,
     "metadata": {},
     "output_type": "execute_result"
    }
   ],
   "source": [
    "#type(casdesc)"
   ]
  },
  {
   "cell_type": "code",
   "execution_count": 561,
   "metadata": {},
   "outputs": [
    {
     "data": {
      "text/plain": [
       "CASTable('IRIS', caslib='CASUSER(student)')"
      ]
     },
     "execution_count": 561,
     "metadata": {},
     "output_type": "execute_result"
    }
   ],
   "source": [
    "tbl"
   ]
  },
  {
   "cell_type": "markdown",
   "metadata": {},
   "source": [
    "Percentiles are a useful tool for numeric data exploration. A percentile is a statistical measure indicating \n",
    "the value below which a given percentage of observations in a group of observations falls. \n",
    "In CAS these statistics are available in the percentile action set.\n",
    "By default, the percentile action computes the 25th, 50th and 75th percentiles for the selected columns."
   ]
  },
  {
   "cell_type": "code",
   "execution_count": null,
   "metadata": {},
   "outputs": [],
   "source": [
    "Type the following code into the cell labelled In [ ]: immediately below and then run that cell using the Run menu button\n",
    "    tbl.describe(percentiles=[.25, .5, .75]). "
   ]
  },
  {
   "cell_type": "code",
   "execution_count": null,
   "metadata": {},
   "outputs": [],
   "source": []
  },
  {
   "cell_type": "code",
   "execution_count": 563,
   "metadata": {},
   "outputs": [],
   "source": [
    "#tbl.describe(percentiles=[.25, .5, .75])"
   ]
  },
  {
   "cell_type": "markdown",
   "metadata": {},
   "source": [
    "Execute the summary action to generate descriptive statistics for all the numeric columns in the Iris table"
   ]
  },
  {
   "cell_type": "raw",
   "metadata": {},
   "source": [
    "Type the following code into the cell labelled In [ ]: immediately below and then run that cell using the Run menu button\n",
    "    tbl.summary()"
   ]
  },
  {
   "cell_type": "code",
   "execution_count": null,
   "metadata": {},
   "outputs": [],
   "source": []
  },
  {
   "cell_type": "code",
   "execution_count": 564,
   "metadata": {},
   "outputs": [],
   "source": [
    "#tbl.summary()"
   ]
  },
  {
   "cell_type": "markdown",
   "metadata": {},
   "source": [
    "### 3.3 Data Visualization"
   ]
  },
  {
   "cell_type": "markdown",
   "metadata": {},
   "source": [
    "Since the tables that come back from the CAS Server are subclasses of Pandas DataFrames, you can do anything to \n",
    "them that works on DataFrames.\n",
    "Use the plot method with default options on the IRIS table."
   ]
  },
  {
   "cell_type": "raw",
   "metadata": {},
   "source": [
    "Type the following code into the cell labelled In [ ]: immediately below and then run that cell using the Run menu button\n",
    "    tbl.plot()"
   ]
  },
  {
   "cell_type": "code",
   "execution_count": null,
   "metadata": {},
   "outputs": [],
   "source": []
  },
  {
   "cell_type": "code",
   "execution_count": 500,
   "metadata": {},
   "outputs": [
    {
     "data": {
      "text/plain": [
       "<matplotlib.axes._subplots.AxesSubplot at 0x7f5cd83b8510>"
      ]
     },
     "execution_count": 500,
     "metadata": {},
     "output_type": "execute_result"
    },
    {
     "data": {
      "image/png": "[encoded data removed]",
      "text/plain": [
       "<Figure size 432x288 with 1 Axes>"
      ]
     },
     "metadata": {
      "needs_background": "light"
     },
     "output_type": "display_data"
    }
   ],
   "source": [
    "tbl.plot()"
   ]
  },
  {
   "cell_type": "markdown",
   "metadata": {},
   "source": [
    "### 3.4 Data Manipulation"
   ]
  },
  {
   "cell_type": "markdown",
   "metadata": {},
   "source": [
    "Its possible for SAS users to manipulate the CAS table using SAS Studio. In the exploration stage we identified that \n",
    "there were some sepal widths > 4 cm. We first need to identify the observations. To identify this the head method can be used on a subset of the CAS Table. The following code filters the IRIS CAStable to identify any sepalwidths above 4 cm."
   ]
  },
  {
   "cell_type": "raw",
   "metadata": {},
   "source": [
    "Type the following code into the cell labelled In [ ]: immediately below and then run that cell using the Run menu button\n",
    "    tbl[tbl['SepalWidth']>4].head()"
   ]
  },
  {
   "cell_type": "code",
   "execution_count": null,
   "metadata": {},
   "outputs": [],
   "source": []
  },
  {
   "cell_type": "code",
   "execution_count": 609,
   "metadata": {},
   "outputs": [
    {
     "data": {
      "text/html": [
       "<div>\n",
       "<style scoped>\n",
       "    .dataframe tbody tr th:only-of-type {\n",
       "        vertical-align: middle;\n",
       "    }\n",
       "\n",
       "    .dataframe tbody tr th {\n",
       "        vertical-align: top;\n",
       "    }\n",
       "\n",
       "    .dataframe thead th {\n",
       "        text-align: right;\n",
       "    }\n",
       "</style>\n",
       "<table border=\"1\" class=\"dataframe\"><caption>Selected Rows from Table IRIS</caption>\n",
       "  <thead>\n",
       "    <tr style=\"text-align: right;\">\n",
       "      <th title=\"\"></th>\n",
       "      <th title=\"SepalLength\">SepalLength</th>\n",
       "      <th title=\"SepalWidth\">SepalWidth</th>\n",
       "      <th title=\"PetalLength\">PetalLength</th>\n",
       "      <th title=\"PetalWidth\">PetalWidth</th>\n",
       "      <th title=\"Name\">Name</th>\n",
       "    </tr>\n",
       "  </thead>\n",
       "  <tbody>\n",
       "    <tr>\n",
       "      <td>0</td>\n",
       "      <td>5.7</td>\n",
       "      <td>4.4</td>\n",
       "      <td>1.5</td>\n",
       "      <td>0.4</td>\n",
       "      <td>Iris-setosa</td>\n",
       "    </tr>\n",
       "    <tr>\n",
       "      <td>1</td>\n",
       "      <td>5.2</td>\n",
       "      <td>4.1</td>\n",
       "      <td>1.5</td>\n",
       "      <td>0.1</td>\n",
       "      <td>Iris-setosa</td>\n",
       "    </tr>\n",
       "    <tr>\n",
       "      <td>2</td>\n",
       "      <td>5.5</td>\n",
       "      <td>4.2</td>\n",
       "      <td>1.4</td>\n",
       "      <td>0.2</td>\n",
       "      <td>Iris-setosa</td>\n",
       "    </tr>\n",
       "  </tbody>\n",
       "</table>\n",
       "</div>"
      ],
      "text/plain": [
       "Selected Rows from Table IRIS\n",
       "\n",
       "   SepalLength  SepalWidth  PetalLength  PetalWidth         Name\n",
       "0          5.7         4.4          1.5         0.4  Iris-setosa\n",
       "1          5.2         4.1          1.5         0.1  Iris-setosa\n",
       "2          5.5         4.2          1.4         0.2  Iris-setosa"
      ]
     },
     "execution_count": 609,
     "metadata": {},
     "output_type": "execute_result"
    }
   ],
   "source": [
    "#tbl[tbl['SepalWidth']>4].head()\n"
   ]
  },
  {
   "cell_type": "markdown",
   "metadata": {},
   "source": [
    "### 3.5 Data Cleansing"
   ]
  },
  {
   "cell_type": "markdown",
   "metadata": {},
   "source": [
    "After identifying the observation, a decision needs to be made about the outlier. (There are many ways of dealing with outliers\n",
    "including replacing the value or removing the observation). For this record we will temporarily replace the value of the\n",
    "reading score to a null value. The replace CAS action is called using the replace method on the CAStable. \n",
    "This can be used to replace any value of 4.4 in the data set with the value of nan\n",
    "which indicates a Python missing value. The inplace option set to True replaces the value\n",
    "directly in the data set.\n",
    "\n",
    "Output 9 displays the view within Jupyter after running the replace method"
   ]
  },
  {
   "cell_type": "raw",
   "metadata": {},
   "source": [
    "Type the following code into the cell labelled In [ ]: immediately below and then run that cell using the Run menu button\n",
    "    tbl['SepalWidth'].replace(4.4, pd.np.nan, inplace=True)"
   ]
  },
  {
   "cell_type": "code",
   "execution_count": null,
   "metadata": {},
   "outputs": [],
   "source": []
  },
  {
   "cell_type": "code",
   "execution_count": 601,
   "metadata": {},
   "outputs": [
    {
     "data": {
      "text/plain": [
       "CASColumn('IRIS', caslib='CASUSER(student)')['SepalWidth']"
      ]
     },
     "execution_count": 601,
     "metadata": {},
     "output_type": "execute_result"
    }
   ],
   "source": [
    "#tbl['SepalWidth'].replace(4.4, pd.np.nan, inplace=True)"
   ]
  },
  {
   "cell_type": "markdown",
   "metadata": {},
   "source": [
    "Validate that no rows exist with a sepal width of greater than 4 cm"
   ]
  },
  {
   "cell_type": "raw",
   "metadata": {},
   "source": [
    "Type the following code into the cell labelled In [ ]: immediately below and then run that cell using the Run menu button\n",
    "    tbl[tbl['SepalWidth']>4].head()"
   ]
  },
  {
   "cell_type": "markdown",
   "metadata": {},
   "source": []
  },
  {
   "cell_type": "code",
   "execution_count": null,
   "metadata": {},
   "outputs": [],
   "source": [
    "#tbl[tbl['SepalWidth']>4].head()"
   ]
  },
  {
   "cell_type": "markdown",
   "metadata": {},
   "source": [
    "Terminate the CAS session"
   ]
  },
  {
   "cell_type": "code",
   "execution_count": 605,
   "metadata": {},
   "outputs": [],
   "source": [
    "conn.terminate()"
   ]
  },
  {
   "cell_type": "code",
   "execution_count": null,
   "metadata": {},
   "outputs": [],
   "source": []
  }
 ],
 "metadata": {
  "kernelspec": {
   "display_name": "Python 3",
   "language": "python",
   "name": "python3"
  },
  "language_info": {
   "codemirror_mode": {
    "name": "ipython",
    "version": 3
   },
   "file_extension": ".py",
   "mimetype": "text/x-python",
   "name": "python",
   "nbconvert_exporter": "python",
   "pygments_lexer": "ipython3",
   "version": "3.7.4"
  }
 },
 "nbformat": 4,
 "nbformat_minor": 2
}
