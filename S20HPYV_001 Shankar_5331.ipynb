{
 "cells": [
  {
   "cell_type": "markdown",
   "metadata": {},
   "source": [
    "# 1. Start a CAS session & Connect to CAS"
   ]
  },
  {
   "cell_type": "markdown",
   "metadata": {},
   "source": [
    "### 1.1 Import the SWAT package"
   ]
  },
  {
   "cell_type": "markdown",
   "metadata": {},
   "source": [
    "The SAS SWAT package is a Python interface to SAS Cloud Analytic Services (CAS) (the centerpiece of the SAS Viya framework). \n",
    "With the SWAT package, you can load and analyze data sets of any size on your desktop or in the cloud. \n",
    "Since CAS can be used on a local desktop or in a hosted cloud environment, you can analyze extremely large data sets \n",
    "using as much processing power as you need, while still retaining the ease-of-use of Python on the client side.\n",
    "\n",
    "Using SWAT, you can execute workflows of CAS analytic actions, then pull down the summarized data to further \n",
    "process on the client side in Python, or to merge with data from other sources using familiar Pandas data structures. \n",
    "In fact, the SWAT package mimics much of the API of the Pandas package so that using CAS should feel familiar to \n",
    "current Pandas users.\n",
    "\n",
    "With SAS analytics in the cloud and the use of Python and its large collection of open source packages, \n",
    "the SWAT package gives you access to the best of both worlds."
   ]
  },
  {
   "cell_type": "markdown",
   "metadata": {},
   "source": [
    "##### Before you can use the SWAT package, you will need a running CAS server. \n",
    "\n",
    "To connect to a CAS server, you simply import SWAT and use the swat.CAS class to create a connection."
   ]
  },
  {
   "cell_type": "raw",
   "metadata": {},
   "source": [
    "Type the following code into the cell labelled In [ ]: immediately below and then run that cell using the Run menu button.\n",
    "    import swat"
   ]
  },
  {
   "cell_type": "code",
   "execution_count": null,
   "metadata": {},
   "outputs": [],
   "source": []
  },
  {
   "cell_type": "code",
   "execution_count": 1,
   "metadata": {},
   "outputs": [],
   "source": [
    "#import swat"
   ]
  },
  {
   "cell_type": "markdown",
   "metadata": {},
   "source": [
    "### 1.2 create a CAS connection"
   ]
  },
  {
   "cell_type": "markdown",
   "metadata": {},
   "source": [
    "We are already connected to a running CAS server. Describing  installation and startup of CAS is beyond the scope of this HOW.\n",
    "The following pieces of information are required to connect to CAS from SWAT: \n",
    "1) host name, 2) port number, 3) user name, and 4) password. \n",
    "The host name is the name of the server that CAS is running on.The port number is the port that SWAT connects to. \n",
    "Finally, a user name and password are required to authenticate to the server"
   ]
  },
  {
   "cell_type": "raw",
   "metadata": {},
   "source": [
    "Type the following code into the cell labelled In [ ]: immediately below and then run that cell using the Run menu button.\n",
    "    conn=swat.CAS('server.demo.sas.com',8777,username='student',password='Metadata0')"
   ]
  },
  {
   "cell_type": "code",
   "execution_count": null,
   "metadata": {},
   "outputs": [],
   "source": []
  },
  {
   "cell_type": "code",
   "execution_count": 2,
   "metadata": {},
   "outputs": [],
   "source": [
    "#conn=swat.CAS('server.demo.sas.com',8777,username='student',password='Metadata0')"
   ]
  },
  {
   "cell_type": "markdown",
   "metadata": {},
   "source": [
    "### 1.3 Run CAS Actions"
   ]
  },
  {
   "cell_type": "markdown",
   "metadata": {},
   "source": [
    "CAS actions perform a single task. CAS actions are aggregated with other actions in an action set and \n",
    "usually contain actions that are based on common functionality.\n",
    "Use the help action to ask CAS directly what actions are available"
   ]
  },
  {
   "cell_type": "raw",
   "metadata": {},
   "source": [
    "Type the following code into the cell labelled In [ ]: immediately below and then run that cell using the Run menu button.\n",
    "    conn.help()"
   ]
  },
  {
   "cell_type": "code",
   "execution_count": null,
   "metadata": {},
   "outputs": [],
   "source": []
  },
  {
   "cell_type": "code",
   "execution_count": 3,
   "metadata": {},
   "outputs": [],
   "source": [
    "#conn.help()"
   ]
  },
  {
   "cell_type": "markdown",
   "metadata": {},
   "source": [
    "Run a simple action like serverstatus to verify that the connection is working."
   ]
  },
  {
   "cell_type": "raw",
   "metadata": {},
   "source": [
    "Type the following code into the cell labelled In [ ]: immediately below and then run that cell using the Run menu button.\n",
    "    conn.serverstatus()"
   ]
  },
  {
   "cell_type": "code",
   "execution_count": null,
   "metadata": {},
   "outputs": [],
   "source": []
  },
  {
   "cell_type": "code",
   "execution_count": 4,
   "metadata": {},
   "outputs": [],
   "source": [
    "#conn.serverstatus()"
   ]
  },
  {
   "cell_type": "markdown",
   "metadata": {},
   "source": [
    "There is one caslib that is considered to be active at any time. An active caslib means that any table references \n",
    "not accompanied by a caslib name are assumed to be the active caslib. \n",
    "Use the caslibinfo action to see which caslib is active. Notice, that he Casuser caslib is marked as the active caslib."
   ]
  },
  {
   "cell_type": "raw",
   "metadata": {},
   "source": [
    "Type the following code into the cell labelled In [ ]: immediately below and then run that cell using the Run menu button.\n",
    "    conn.caslibinfo()"
   ]
  },
  {
   "cell_type": "code",
   "execution_count": null,
   "metadata": {},
   "outputs": [],
   "source": []
  },
  {
   "cell_type": "code",
   "execution_count": 5,
   "metadata": {
    "scrolled": true
   },
   "outputs": [],
   "source": [
    "#conn.caslibinfo()"
   ]
  },
  {
   "cell_type": "markdown",
   "metadata": {},
   "source": [
    "### 1.4\tLoad dataset from the client side"
   ]
  },
  {
   "cell_type": "markdown",
   "metadata": {},
   "source": [
    "The simplest way to load data is to do it from the client side by using data loading methods on the cas object that \n",
    "parallel data reading operations in the pandas module. \n",
    "Note: Loading data from the client-side will be slower than loading data files from the server. \n",
    "      Client-side data loading is intended for smaller data sets."
   ]
  },
  {
   "cell_type": "markdown",
   "metadata": {},
   "source": [
    "The CAS.read_csv() method works just like the pandas.read_csv() function. In fact, CAS.read_csv() uses \n",
    "pandas.read_csv() in the background. When pandas.read_csv() finishes parsing the CSV file into a pandas.DataFrame, \n",
    "it gets uploaded to a CAS table by CAS.read_csv(). The returned object is a CASTable object.\n",
    "The only difference is that the result of the method is a CASTable object rather than a pandas DataFrame"
   ]
  },
  {
   "cell_type": "markdown",
   "metadata": {},
   "source": [
    "In the following scenario, we are pointing to a URL that references CSV data. We could just as easily point to a local file. \n",
    "Bear in mind that when using a URL, the data is downloaded from wherever it is to the client machine for parsing \n",
    "before it is uploaded to CAS."
   ]
  },
  {
   "cell_type": "code",
   "execution_count": null,
   "metadata": {},
   "outputs": [],
   "source": []
  },
  {
   "cell_type": "raw",
   "metadata": {},
   "source": [
    "Type the following code into the cell labelled In [ ]: immediately below and then run that cell using the Run menu button\n",
    "    cars = conn.read_csv('https://raw.githubusercontent.com/CharuSAS/pythondata/master/cars.csv')"
   ]
  },
  {
   "cell_type": "code",
   "execution_count": null,
   "metadata": {},
   "outputs": [],
   "source": []
  },
  {
   "cell_type": "code",
   "execution_count": 6,
   "metadata": {},
   "outputs": [],
   "source": [
    "#cars = conn.read_csv('https://raw.githubusercontent.com/CharuSAS/pythondata/master/cars.csv')"
   ]
  },
  {
   "cell_type": "markdown",
   "metadata": {},
   "source": [
    "We should now have the cars table in our CAS session"
   ]
  },
  {
   "cell_type": "markdown",
   "metadata": {},
   "source": [
    "If you don’t want the difficult-to-read generated name for a table, you can specify one using the casout= parameter."
   ]
  },
  {
   "cell_type": "raw",
   "metadata": {},
   "source": [
    "Type the following code into the cell labelled In [ ]: immediately below and then run that cell using the Run menu button\n",
    "    cars = conn.read_csv('https://raw.githubusercontent.com/CharuSAS/pythondata/master/cars.csv',\n",
    "                    casout='cars')"
   ]
  },
  {
   "cell_type": "code",
   "execution_count": null,
   "metadata": {},
   "outputs": [],
   "source": []
  },
  {
   "cell_type": "code",
   "execution_count": 7,
   "metadata": {},
   "outputs": [],
   "source": [
    "#cars = conn.read_csv('https://raw.githubusercontent.com/CharuSAS/pythondata/master/cars.csv',casout='cars')"
   ]
  },
  {
   "cell_type": "markdown",
   "metadata": {},
   "source": [
    "We can get a fair bit of information about our data using CAS actions for simple statistics. \n",
    "These actions are in an action set called simple. The simple action set should already be loaded. \n",
    "Verify this by running the actionsetinfo action (in addition to running\n",
    "the action, we are also accessing the ‘actionset’ column of the DataFrame in the ‘setinfo’ key of the result\n",
    "in the code below)."
   ]
  },
  {
   "cell_type": "raw",
   "metadata": {},
   "source": [
    "Type the following code into the cell labelled In [ ]: immediately below and then run that cell using the Run menu button\n",
    "    conn.actionsetinfo().setinfo.actionset"
   ]
  },
  {
   "cell_type": "code",
   "execution_count": null,
   "metadata": {},
   "outputs": [],
   "source": []
  },
  {
   "cell_type": "code",
   "execution_count": 8,
   "metadata": {},
   "outputs": [],
   "source": [
    "#conn.actionsetinfo().setinfo.actionset"
   ]
  },
  {
   "cell_type": "markdown",
   "metadata": {},
   "source": [
    "The IPython environment has a way of invoking help as well. It is more useful in the notebook environment where the help \n",
    "content will pop up in a separate pane of the browser. To bring up help for an action set, you simply add a ? after the action \n",
    "set attribute name.\n",
    "Using IPython’s ? operator for displaying help, display the following on the simple attribute of the connection object."
   ]
  },
  {
   "cell_type": "raw",
   "metadata": {},
   "source": [
    "Type the following code into the cell labelled In [ ]: immediately below and then run that cell using the Run menu button\n",
    "    conn.simple?"
   ]
  },
  {
   "cell_type": "code",
   "execution_count": null,
   "metadata": {},
   "outputs": [],
   "source": []
  },
  {
   "cell_type": "code",
   "execution_count": 9,
   "metadata": {},
   "outputs": [],
   "source": [
    "#conn.simple?"
   ]
  },
  {
   "cell_type": "markdown",
   "metadata": {},
   "source": [
    "The CAS server has a builtin help system that will tell you about action sets and actions. \n",
    "Specify the action set name as a parameter if you only want to see the help for a single action set."
   ]
  },
  {
   "cell_type": "raw",
   "metadata": {},
   "source": [
    "Type the following code into the cell labelled In [ ]: immediately below and then run that cell using the Run menu button\n",
    "    conn.help(actionset='simple')"
   ]
  },
  {
   "cell_type": "code",
   "execution_count": null,
   "metadata": {},
   "outputs": [],
   "source": [
    " "
   ]
  },
  {
   "cell_type": "code",
   "execution_count": 10,
   "metadata": {},
   "outputs": [],
   "source": [
    "#conn.help(actionset='simple')"
   ]
  },
  {
   "cell_type": "markdown",
   "metadata": {},
   "source": [
    "As mentioned earlier, these methods on the CAS object use the Pandas functions under-the-covers to do the parsing. This means that you can also use all of the Pandas parsing options.\n",
    "Once verified that this action set loaded, use the summary action on our previously loaded CARS table."
   ]
  },
  {
   "cell_type": "raw",
   "metadata": {},
   "source": [
    "Type the following code into the cell labelled In [ ]: immediately below and then run that cell using the Run menu button\n",
    "    cars.summary()"
   ]
  },
  {
   "cell_type": "code",
   "execution_count": null,
   "metadata": {},
   "outputs": [],
   "source": []
  },
  {
   "cell_type": "code",
   "execution_count": 11,
   "metadata": {},
   "outputs": [],
   "source": [
    "#cars.summary()"
   ]
  },
  {
   "cell_type": "markdown",
   "metadata": {},
   "source": [
    "### 1.5 Load CAS Action Sets"
   ]
  },
  {
   "cell_type": "markdown",
   "metadata": {},
   "source": [
    "While CAS comes with a few pre-loaded action sets, you will likely want to load action sets with other capabilities \n",
    "such as percentiles, Data step, SQL, or even machine learning. The action used to load action sets is called loadactionset."
   ]
  },
  {
   "cell_type": "raw",
   "metadata": {},
   "source": [
    "Type the following code into the cell labelled In [ ]: immediately below and then run that cell using the Run menu button\n",
    "    conn.loadactionset('percentile')"
   ]
  },
  {
   "cell_type": "code",
   "execution_count": null,
   "metadata": {},
   "outputs": [],
   "source": []
  },
  {
   "cell_type": "code",
   "execution_count": 12,
   "metadata": {},
   "outputs": [],
   "source": [
    "#conn.loadactionset('percentile')"
   ]
  },
  {
   "cell_type": "markdown",
   "metadata": {},
   "source": [
    "Now use the percentile action set on cars data"
   ]
  },
  {
   "cell_type": "raw",
   "metadata": {},
   "source": [
    "Type the following code into the cell labelled In [ ]: immediately below and then run that cell using the Run menu button\n",
    "    cars.percentile()"
   ]
  },
  {
   "cell_type": "code",
   "execution_count": null,
   "metadata": {},
   "outputs": [],
   "source": []
  },
  {
   "cell_type": "code",
   "execution_count": 13,
   "metadata": {},
   "outputs": [],
   "source": [
    "#cars.percentile()"
   ]
  },
  {
   "cell_type": "markdown",
   "metadata": {},
   "source": [
    "## 2. Use CASTable objects like a DataFrame"
   ]
  },
  {
   "cell_type": "markdown",
   "metadata": {},
   "source": [
    "The CASTable object is the most important object in the SWAT package besides the CAS connection object.\n",
    "It keeps your CAS table settings in one object. Also it enables you to directly call CAS actions on the table object\n",
    "rather than always having to supply them as a parameter to the action.\n",
    "CASTable objects do not contain actual data. They are simply a client-side view of the data in a CAS table on a CAS server."
   ]
  },
  {
   "cell_type": "markdown",
   "metadata": {},
   "source": [
    "CASTable objects can be used in multiple ways. They can be used as simply a container of table parameters \n",
    "and used as CAS action parameter values. If a connection is associated with it (either by instantiating it from CAS.CASTable() \n",
    "or using set_connection()), it can be used to call CAS actions on the table. \n",
    "Finally, it supports much of the pandas.DataFrame API, so it can interact with CAS tables in much the same way you \n",
    "interact with local data."
   ]
  },
  {
   "cell_type": "markdown",
   "metadata": {},
   "source": [
    "As mentioned earlier, CASTable objects implement many of the pandas.DataFrame methods and properties. \n",
    "this means that you can use the familiar Pandas.DataFrame API, but use it on data that is far too large for \n",
    "pandas to handle. a few examples"
   ]
  },
  {
   "cell_type": "markdown",
   "metadata": {},
   "source": [
    "The first step to take before working with CASTable objects is to create a data table in CAS. "
   ]
  },
  {
   "cell_type": "markdown",
   "metadata": {},
   "source": [
    "### 2.1 Load data from Iris.csv into a DataFrame"
   ]
  },
  {
   "cell_type": "markdown",
   "metadata": {},
   "source": [
    "Since Dataframes are not built into Python, we must first import their definition from the Pandas module"
   ]
  },
  {
   "cell_type": "raw",
   "metadata": {},
   "source": [
    "Type the following code into the cell labelled In [ ]: immediately below and then run that cell using the Run menu button\n",
    "    import pandas as pd"
   ]
  },
  {
   "cell_type": "code",
   "execution_count": null,
   "metadata": {},
   "outputs": [],
   "source": []
  },
  {
   "cell_type": "code",
   "execution_count": 14,
   "metadata": {},
   "outputs": [],
   "source": [
    "#import pandas as pd"
   ]
  },
  {
   "cell_type": "markdown",
   "metadata": {},
   "source": [
    "Load data from iris.csv into a pandas dataframe using the read_csv method in pandas"
   ]
  },
  {
   "cell_type": "raw",
   "metadata": {},
   "source": [
    "Type the following code into the cell labelled In [ ]: immediately below and then run that cell using the Run menu button\n",
    "    df = pd.read_csv('/workshop/HOW/Shankar_5331/data/iris.csv')"
   ]
  },
  {
   "cell_type": "code",
   "execution_count": null,
   "metadata": {},
   "outputs": [],
   "source": []
  },
  {
   "cell_type": "code",
   "execution_count": 15,
   "metadata": {},
   "outputs": [],
   "source": [
    "#df = pd.read_csv('/workshop/HOW/Shankar_5331/data/iris.csv')"
   ]
  },
  {
   "cell_type": "markdown",
   "metadata": {},
   "source": [
    "Use the columns method for listing names of all of the columns used"
   ]
  },
  {
   "cell_type": "raw",
   "metadata": {},
   "source": [
    "Type the following code into the cell labelled In [ ]: immediately below and then run that cell using the Run menu button\n",
    "    df.columns"
   ]
  },
  {
   "cell_type": "code",
   "execution_count": null,
   "metadata": {},
   "outputs": [],
   "source": []
  },
  {
   "cell_type": "code",
   "execution_count": 16,
   "metadata": {},
   "outputs": [],
   "source": [
    "#df.columns"
   ]
  },
  {
   "cell_type": "markdown",
   "metadata": {},
   "source": [
    "### 2.2 Load iris.csv into a CAS table"
   ]
  },
  {
   "cell_type": "code",
   "execution_count": 544,
   "metadata": {},
   "outputs": [],
   "source": [
    "#conn.droptable('iris', caslib='casuser')"
   ]
  },
  {
   "cell_type": "markdown",
   "metadata": {},
   "source": [
    "Load the CASTable IRIS in this session and create a CASTable object that points to it.\n",
    "Use the CASTable method of the CAS connection object and pass the name of the table. \n",
    "You will now have a CASTable object to interact with"
   ]
  },
  {
   "cell_type": "raw",
   "metadata": {},
   "source": [
    "Type the following code into the cell labelled In [ ]: immediately below and then run that cell using the Run menu button\n",
    "    tbl=conn.loadtable('iris.csv', caslib='casuser').casTable"
   ]
  },
  {
   "cell_type": "code",
   "execution_count": null,
   "metadata": {},
   "outputs": [],
   "source": []
  },
  {
   "cell_type": "code",
   "execution_count": 17,
   "metadata": {},
   "outputs": [],
   "source": [
    "#tbl=conn.loadtable('iris.csv', caslib='casuser').casTable"
   ]
  },
  {
   "cell_type": "markdown",
   "metadata": {},
   "source": [
    "Use the tableinfo action to confirm that the table exists IRIS exists"
   ]
  },
  {
   "cell_type": "raw",
   "metadata": {},
   "source": [
    "Type the following code into the cell labelled In [ ]: immediately below and then run that cell using the Run menu button\n",
    "    conn.table.tableInfo()"
   ]
  },
  {
   "cell_type": "code",
   "execution_count": null,
   "metadata": {},
   "outputs": [],
   "source": []
  },
  {
   "cell_type": "code",
   "execution_count": 18,
   "metadata": {},
   "outputs": [],
   "source": [
    "#conn.table.tableInfo()"
   ]
  },
  {
   "cell_type": "markdown",
   "metadata": {},
   "source": [
    "The head() method picks up the first 5 records by default. The head and tail methods accept the n parameter indicating number of records to retrieve(default is 5). Modify the value of n to return 4 records."
   ]
  },
  {
   "cell_type": "raw",
   "metadata": {},
   "source": [
    "Type the following code into the cell labelled In [ ]: immediately below and then run that cell using the Run menu button\n",
    "    tbl.head(n=4)"
   ]
  },
  {
   "cell_type": "code",
   "execution_count": null,
   "metadata": {},
   "outputs": [],
   "source": []
  },
  {
   "cell_type": "code",
   "execution_count": 19,
   "metadata": {},
   "outputs": [],
   "source": [
    "#tbl.head(n=4)"
   ]
  },
  {
   "cell_type": "markdown",
   "metadata": {},
   "source": [
    "CAS commonly deals with large datasets and you might not want to bring all of the variables back. \n",
    "Using the columns parameter, subset the columns that are retrieved"
   ]
  },
  {
   "cell_type": "raw",
   "metadata": {},
   "source": [
    "Type the following code into the cell labelled In [ ]: immediately below and then run that cell using the Run menu button\n",
    "    tbl.tail(columns=['sepallength', 'petallength'])"
   ]
  },
  {
   "cell_type": "code",
   "execution_count": null,
   "metadata": {},
   "outputs": [],
   "source": []
  },
  {
   "cell_type": "code",
   "execution_count": 20,
   "metadata": {},
   "outputs": [],
   "source": [
    "#tbl.tail(columns=['sepallength', 'petallength'])"
   ]
  },
  {
   "cell_type": "markdown",
   "metadata": {},
   "source": [
    "### 2.3 Compare dataframe with CASTable"
   ]
  },
  {
   "cell_type": "markdown",
   "metadata": {},
   "source": [
    "#### Find data types using dtypes"
   ]
  },
  {
   "cell_type": "raw",
   "metadata": {},
   "source": [
    "Type the following code into the cell labelled In [ ]: immediately below and then run that cell using the Run menu button\n",
    "    df.dtypes"
   ]
  },
  {
   "cell_type": "code",
   "execution_count": null,
   "metadata": {},
   "outputs": [],
   "source": []
  },
  {
   "cell_type": "code",
   "execution_count": 21,
   "metadata": {},
   "outputs": [],
   "source": [
    "#df.dtypes"
   ]
  },
  {
   "cell_type": "raw",
   "metadata": {},
   "source": [
    "Type the following code into the cell labelled In [ ]: immediately below and then run that cell using the Run menu button\n",
    "    tbl.dtypes"
   ]
  },
  {
   "cell_type": "code",
   "execution_count": null,
   "metadata": {},
   "outputs": [],
   "source": []
  },
  {
   "cell_type": "code",
   "execution_count": 22,
   "metadata": {},
   "outputs": [],
   "source": [
    "#tbl.dtypes"
   ]
  },
  {
   "cell_type": "markdown",
   "metadata": {},
   "source": [
    "Notice a small difference. The data types supported by DataFrames and those supported by CAS tables have different names. \n",
    "The different names don't matter since the Python float64 types is equivalent to the CAS double type. "
   ]
  },
  {
   "cell_type": "markdown",
   "metadata": {},
   "source": [
    "# 3. Explore data and gather summary statistics"
   ]
  },
  {
   "cell_type": "markdown",
   "metadata": {},
   "source": [
    "### 3.1 Data exploration"
   ]
  },
  {
   "cell_type": "markdown",
   "metadata": {},
   "source": [
    "Histograms help to view the distribution of numeric variables within a dataset. They can be used to identify any issues or outliers in the data. To create a histogram of all numeric variables within the CAS table, use the Python hist method. \n",
    "\n",
    "This hist method produces one histogram for each numeric variable within the data set. The figsize option included within the code specifies the size of the plot which you would like to be created. For the iris table, one histogram is created for the distribution of PetalLength, PetalWidth, SepalLength, SepalWidth. Output displays 4 plots  generated for the IRIS CASTable:"
   ]
  },
  {
   "cell_type": "raw",
   "metadata": {},
   "source": [
    "Type the following code into the cell labelled In [ ]: immediately below and then run that cell using the Run menu button\n",
    "tbl.hist(figsize=(20,20))\n",
    "print()"
   ]
  },
  {
   "cell_type": "code",
   "execution_count": null,
   "metadata": {},
   "outputs": [],
   "source": []
  },
  {
   "cell_type": "code",
   "execution_count": 23,
   "metadata": {
    "scrolled": true
   },
   "outputs": [],
   "source": [
    "#tbl.hist(figsize=(20,20))\n",
    "#print()"
   ]
  },
  {
   "cell_type": "markdown",
   "metadata": {},
   "source": [
    "### 3.2 Data Analysis"
   ]
  },
  {
   "cell_type": "markdown",
   "metadata": {},
   "source": [
    "A common DataFrame method is the Describe method use to provide characteristics of the data. \n",
    "Use the Describe method to get basic summary statistics like mean, minimum, quartiles etc. for numeric variables on a dataframe and a CASTable."
   ]
  },
  {
   "cell_type": "markdown",
   "metadata": {},
   "source": [
    "Run the describe method on a DataFrame"
   ]
  },
  {
   "cell_type": "raw",
   "metadata": {},
   "source": [
    "Type the following code into the cell labelled In [ ]: immediately below and then run that cell using the Run menu button\n",
    "    desc = df.describe()"
   ]
  },
  {
   "cell_type": "code",
   "execution_count": null,
   "metadata": {},
   "outputs": [],
   "source": []
  },
  {
   "cell_type": "code",
   "execution_count": 24,
   "metadata": {},
   "outputs": [],
   "source": [
    "#desc = df.describe()"
   ]
  },
  {
   "cell_type": "raw",
   "metadata": {},
   "source": [
    "Type the following code into the cell labelled In [ ]: immediately below and then run that cell using the Run menu button\n",
    "    desc"
   ]
  },
  {
   "cell_type": "code",
   "execution_count": null,
   "metadata": {},
   "outputs": [],
   "source": []
  },
  {
   "cell_type": "code",
   "execution_count": 25,
   "metadata": {},
   "outputs": [],
   "source": [
    "#desc"
   ]
  },
  {
   "cell_type": "raw",
   "metadata": {},
   "source": [
    "Type the following code into the cell labelled In [ ]: immediately below and then run that cell using the Run menu button\n",
    "    type(desc)"
   ]
  },
  {
   "cell_type": "code",
   "execution_count": null,
   "metadata": {},
   "outputs": [],
   "source": []
  },
  {
   "cell_type": "code",
   "execution_count": 26,
   "metadata": {},
   "outputs": [],
   "source": [
    "#type(desc)"
   ]
  },
  {
   "cell_type": "markdown",
   "metadata": {},
   "source": [
    "Run the describe method on a CASTable"
   ]
  },
  {
   "cell_type": "raw",
   "metadata": {},
   "source": [
    "Type the following code into the cell labelled In [ ]: immediately below and then run that cell using the Run menu button\n",
    "    casdesc = tbl.describe()"
   ]
  },
  {
   "cell_type": "code",
   "execution_count": null,
   "metadata": {},
   "outputs": [],
   "source": []
  },
  {
   "cell_type": "code",
   "execution_count": 27,
   "metadata": {},
   "outputs": [],
   "source": [
    "#casdesc = tbl.describe()"
   ]
  },
  {
   "cell_type": "raw",
   "metadata": {},
   "source": [
    "Type the following code into the cell labelled In [ ]: immediately below and then run that cell using the Run menu button\n",
    "    casdesc"
   ]
  },
  {
   "cell_type": "code",
   "execution_count": null,
   "metadata": {},
   "outputs": [],
   "source": []
  },
  {
   "cell_type": "code",
   "execution_count": 28,
   "metadata": {},
   "outputs": [],
   "source": [
    "#casdesc"
   ]
  },
  {
   "cell_type": "raw",
   "metadata": {},
   "source": [
    "Type the following code into the cell labelled In [ ]: immediately below and then run that cell using the Run menu button\n",
    "    type(casdesc)"
   ]
  },
  {
   "cell_type": "code",
   "execution_count": null,
   "metadata": {},
   "outputs": [],
   "source": []
  },
  {
   "cell_type": "code",
   "execution_count": 29,
   "metadata": {},
   "outputs": [],
   "source": [
    "#type(casdesc)"
   ]
  },
  {
   "cell_type": "code",
   "execution_count": null,
   "metadata": {},
   "outputs": [],
   "source": []
  },
  {
   "cell_type": "code",
   "execution_count": 31,
   "metadata": {},
   "outputs": [],
   "source": [
    "#tbl"
   ]
  },
  {
   "cell_type": "markdown",
   "metadata": {},
   "source": [
    "Percentiles are a useful tool for numeric data exploration. A percentile is a statistical measure indicating \n",
    "the value below which a given percentage of observations in a group of observations falls. \n",
    "In CAS these statistics are available in the percentile action set.\n",
    "By default, the percentile action computes the 25th, 50th and 75th percentiles for the selected columns."
   ]
  },
  {
   "cell_type": "code",
   "execution_count": null,
   "metadata": {},
   "outputs": [],
   "source": [
    "Type the following code into the cell labelled In [ ]: immediately below and then run that cell using the Run menu button\n",
    "    tbl.describe(percentiles=[.25, .5, .75])"
   ]
  },
  {
   "cell_type": "code",
   "execution_count": null,
   "metadata": {},
   "outputs": [],
   "source": []
  },
  {
   "cell_type": "code",
   "execution_count": 32,
   "metadata": {},
   "outputs": [],
   "source": [
    "#tbl.describe(percentiles=[.25, .5, .75])"
   ]
  },
  {
   "cell_type": "markdown",
   "metadata": {},
   "source": [
    "Execute the summary action to generate descriptive statistics for all the numeric columns in the Iris table"
   ]
  },
  {
   "cell_type": "raw",
   "metadata": {},
   "source": [
    "Type the following code into the cell labelled In [ ]: immediately below and then run that cell using the Run menu button\n",
    "    tbl.summary()"
   ]
  },
  {
   "cell_type": "code",
   "execution_count": null,
   "metadata": {},
   "outputs": [],
   "source": []
  },
  {
   "cell_type": "code",
   "execution_count": 33,
   "metadata": {},
   "outputs": [],
   "source": [
    "#tbl.summary()"
   ]
  },
  {
   "cell_type": "markdown",
   "metadata": {},
   "source": [
    "### 3.3 Data Visualization"
   ]
  },
  {
   "cell_type": "markdown",
   "metadata": {},
   "source": [
    "Since the tables that come back from the CAS Server are subclasses of Pandas DataFrames, you can do anything to \n",
    "them that works on DataFrames.\n",
    "Use the plot method with default options on the IRIS table."
   ]
  },
  {
   "cell_type": "raw",
   "metadata": {},
   "source": [
    "Type the following code into the cell labelled In [ ]: immediately below and then run that cell using the Run menu button\n",
    "    tbl.plot()"
   ]
  },
  {
   "cell_type": "code",
   "execution_count": null,
   "metadata": {},
   "outputs": [],
   "source": []
  },
  {
   "cell_type": "code",
   "execution_count": 34,
   "metadata": {},
   "outputs": [],
   "source": [
    "#tbl.plot()"
   ]
  },
  {
   "cell_type": "markdown",
   "metadata": {},
   "source": [
    "### 3.4 Data Manipulation"
   ]
  },
  {
   "cell_type": "markdown",
   "metadata": {},
   "source": [
    "Its possible for SAS users to manipulate the CAS table using SAS Studio. In the exploration stage we identified that \n",
    "there were some sepal widths > 4 cm. We first need to identify the observations. To identify this the head method can be used on a subset of the CAS Table. The following code filters the IRIS CAStable to identify any sepalwidths above 4 cm."
   ]
  },
  {
   "cell_type": "raw",
   "metadata": {},
   "source": [
    "Type the following code into the cell labelled In [ ]: immediately below and then run that cell using the Run menu button\n",
    "    tbl[tbl['SepalWidth']>4].head()"
   ]
  },
  {
   "cell_type": "code",
   "execution_count": null,
   "metadata": {},
   "outputs": [],
   "source": []
  },
  {
   "cell_type": "code",
   "execution_count": 35,
   "metadata": {},
   "outputs": [],
   "source": [
    "#tbl[tbl['SepalWidth']>4].head()\n"
   ]
  },
  {
   "cell_type": "markdown",
   "metadata": {},
   "source": [
    "### 3.5 Data Cleansing"
   ]
  },
  {
   "cell_type": "markdown",
   "metadata": {},
   "source": [
    "After identifying the observation, a decision needs to be made about the outlier. (There are many ways of dealing with outliers\n",
    "including replacing the value or removing the observation). For this record we will temporarily replace the value of the\n",
    "reading score to a null value. The replace CAS action is called using the replace method on the CAStable. \n",
    "This can be used to replace any value of 4.4 in the data set with the value of nan\n",
    "which indicates a Python missing value. The inplace option set to True replaces the value\n",
    "directly in the data set.\n",
    "\n",
    "Output displays the view within Jupyter after running the replace method"
   ]
  },
  {
   "cell_type": "raw",
   "metadata": {},
   "source": [
    "Type the following code into the cell labelled In [ ]: immediately below and then run that cell using the Run menu button\n",
    "    tbl['SepalWidth'].replace(4.4, pd.np.nan, inplace=True)"
   ]
  },
  {
   "cell_type": "code",
   "execution_count": null,
   "metadata": {},
   "outputs": [],
   "source": []
  },
  {
   "cell_type": "code",
   "execution_count": 36,
   "metadata": {},
   "outputs": [],
   "source": [
    "#tbl['SepalWidth'].replace(4.4, pd.np.nan, inplace=True)"
   ]
  },
  {
   "cell_type": "markdown",
   "metadata": {},
   "source": [
    "Validate that no rows exist with a sepal width of greater than 4 cm"
   ]
  },
  {
   "cell_type": "raw",
   "metadata": {},
   "source": [
    "Type the following code into the cell labelled In [ ]: immediately below and then run that cell using the Run menu button\n",
    "    tbl[tbl['SepalWidth']>4].head()"
   ]
  },
  {
   "cell_type": "code",
   "execution_count": null,
   "metadata": {},
   "outputs": [],
   "source": []
  },
  {
   "cell_type": "code",
   "execution_count": 37,
   "metadata": {},
   "outputs": [],
   "source": [
    "#tbl[tbl['SepalWidth']>4].head()"
   ]
  },
  {
   "cell_type": "markdown",
   "metadata": {},
   "source": [
    "Terminate the CAS session"
   ]
  },
  {
   "cell_type": "code",
   "execution_count": 40,
   "metadata": {},
   "outputs": [],
   "source": [
    "conn.terminate()"
   ]
  },
  {
   "cell_type": "code",
   "execution_count": null,
   "metadata": {},
   "outputs": [],
   "source": []
  }
 ],
 "metadata": {
  "kernelspec": {
   "display_name": "Python 3",
   "language": "python",
   "name": "python3"
  },
  "language_info": {
   "codemirror_mode": {
    "name": "ipython",
    "version": 3
   },
   "file_extension": ".py",
   "mimetype": "text/x-python",
   "name": "python",
   "nbconvert_exporter": "python",
   "pygments_lexer": "ipython3",
   "version": "3.7.4"
  }
 },
 "nbformat": 4,
 "nbformat_minor": 2
}
